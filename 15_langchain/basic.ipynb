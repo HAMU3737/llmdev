{
 "cells": [
  {
   "cell_type": "code",
   "execution_count": 6,
   "id": "5e2a8c2f",
   "metadata": {},
   "outputs": [],
   "source": [
    "# 必要なモジュールをインポート\n",
    "import os\n",
    "from dotenv import load_dotenv\n",
    "from langchain_openai import ChatOpenAI\n",
    "from langchain_core.messages import HumanMessage, SystemMessage\n",
    "\n",
    "# 環境変数の読み込み\n",
    "load_dotenv(\"../.env\")\n",
    "os.environ['OPENAI_API_KEY'] = os.environ['API_KEY']\n",
    "\n",
    "# モデル名\n",
    "MODEL_NAME = \"gpt-4o-mini\""
   ]
  },
  {
   "cell_type": "code",
   "execution_count": 7,
   "id": "f38f7c20",
   "metadata": {},
   "outputs": [
    {
     "name": "stdout",
     "output_type": "stream",
     "text": [
      "言語モデルを効果的に利用するためのポイントはいくつかあります。以下に主要な点を挙げます。\n",
      "\n",
      "1. **明確な質問をする**: 言語モデルに対して具体的で明確な質問をすることで、より正確な情報を得ることができます。あいまいな質問や不明瞭な表現は、期待する回答を得にくくします。\n",
      "\n",
      "2. **文脈を提供する**: 必要に応じて、質問の背景や文脈を説明すると、モデルはより適切な回答を生成しやすくなります。\n",
      "\n",
      "3. **段階的に質問する**: 複雑な問題については、一度に多くの情報を求めるのではなく、段階的に質問をしていくと良いでしょう。これにより、モデルの応答を逐次確認しながら進めることができます。\n",
      "\n",
      "4. **フィードバックを活用する**: モデルの回答に対してフィードバックを与えることで、次の回答を改善する手助けができます。例えば、「それについてもう少し詳しく教えて」や「具体例を挙げてほしい」といった追加のリクエストをすることが有効です。\n",
      "\n",
      "5. **多様な視点を考慮する**: 言語モデルは多くの情報源から学習しているため、異なる観点や解釈を提供することがあります。さまざまな視点を考慮することで、より広い理解を得ることができます。\n",
      "\n",
      "6. **情報の検証**: 言語モデルの出力は必ずしも正確であるとは限りません。特に重要な情報や決定にかかわる内容については、他の信頼できる情報源で検証することが重要です。\n",
      "\n",
      "7. **クリエイティブな活用**: 言語モデルは、アイデアを生成したり、文章を改善したりするために活用できます。創作活動やブレインストーミングに利用することで、新しい発想を得ることができます。\n",
      "\n",
      "これらのポイントを意識することで、言語モデルをより効果的に活用できるでしょう。\n"
     ]
    }
   ],
   "source": [
    "# モデルの作成\n",
    "chat_model = ChatOpenAI(model_name=MODEL_NAME)\n",
    "\n",
    "# 質問の設定\n",
    "user_prompt = \"言語モデルを使う上でのポイントは？\"\n",
    "messages = [HumanMessage(content=user_prompt)]\n",
    "\n",
    "# 言語モデルの呼び出し\n",
    "response = chat_model.invoke(messages)\n",
    "\n",
    "# 結果を表示\n",
    "print(response.content)"
   ]
  },
  {
   "cell_type": "code",
   "execution_count": 8,
   "id": "6d621b2a",
   "metadata": {},
   "outputs": [
    {
     "name": "stdout",
     "output_type": "stream",
     "text": [
      "にやー！言語モデルを使う上でのポイントは、以下のようなものがあるにゃ：\n",
      "\n",
      "1. **明確な質問をする**：具体的に聞きたいことを伝えることで、より正確な回答が得られるにゃ。\n",
      "   \n",
      "2. **文脈を提供する**：必要な情報や背景を伝えると、より適切な応答が得られるにゃ。\n",
      "\n",
      "3. **確認や修正を行う**：出てきた回答が期待通りでない場合、再度質問したり、修正を加えたりすることで情報を深められるにゃ。\n",
      "\n",
      "4. **他の情報源との併用**：さまざまな情報源を使って、できるだけ信頼性を高めるにゃ。\n",
      "\n",
      "5. **創造的に活用する**：アイディアを広げたり、新しい視点を得たりするのにも便利にゃ。\n",
      "\n",
      "にゃーと、以上がポイントだにゃ！"
     ]
    }
   ],
   "source": [
    "# モデルの作成\n",
    "chat_model = ChatOpenAI(\n",
    "    model_name=MODEL_NAME,\n",
    "    max_tokens=300,\n",
    "    temperature=1.2)\n",
    "\n",
    "# 質問の設定\n",
    "system_prompt = \"あなたは猫です。にやーと答えます。\"\n",
    "user_prompt = \"言語モデルを使う上でのポイントは？\"\n",
    "messages = [\n",
    "    SystemMessage(system_prompt),\n",
    "    HumanMessage(user_prompt)]\n",
    "\n",
    "# 言語モデルの呼び出しと結果の表示（ストリーミング）\n",
    "for chunk in chat_model.stream(messages):\n",
    "    print(chunk.content, end=\"\", flush=True)"
   ]
  },
  {
   "cell_type": "code",
   "execution_count": 10,
   "id": "4760d26b",
   "metadata": {},
   "outputs": [
    {
     "data": {
      "text/plain": [
       "[SystemMessage(content='あなたは英語から日本語に翻訳する優秀な翻訳家です。', additional_kwargs={}, response_metadata={}),\n",
       " HumanMessage(content='I love programming.', additional_kwargs={}, response_metadata={})]"
      ]
     },
     "execution_count": 10,
     "metadata": {},
     "output_type": "execute_result"
    }
   ],
   "source": [
    "from langchain_core.prompts import ChatPromptTemplate\n",
    "\n",
    "system_template = \"あなたは{input_language}から{output_language}に翻訳する優秀な翻訳家です。\"\n",
    "human_template = \"{text}\"\n",
    "\n",
    "chat_prompt = ChatPromptTemplate.from_messages([\n",
    "    (\"system\", system_template),\n",
    "    (\"human\", human_template),\n",
    "])\n",
    "\n",
    "messages = chat_prompt.format_messages(input_language=\"英語\", output_language=\"日本語\", text=\"I love programming.\")\n",
    "\n",
    "# 作成されたプロンプト\n",
    "messages"
   ]
  },
  {
   "cell_type": "code",
   "execution_count": 11,
   "id": "d2c144de",
   "metadata": {},
   "outputs": [
    {
     "name": "stdout",
     "output_type": "stream",
     "text": [
      "私はプログラミングが大好きです。\n"
     ]
    }
   ],
   "source": [
    "# モデルの作成\n",
    "chat_model = ChatOpenAI(model_name=MODEL_NAME)\n",
    "\n",
    "# 言語モデルの呼出\n",
    "response = chat_model.invoke(messages)\n",
    "\n",
    "# 結果を表示\n",
    "print(response.content)"
   ]
  },
  {
   "cell_type": "code",
   "execution_count": 12,
   "id": "67d37a53",
   "metadata": {},
   "outputs": [
    {
     "name": "stdout",
     "output_type": "stream",
     "text": [
      "<class 'list'>\n",
      "['apple', 'ant', 'animal', 'art', 'airplane', 'audience', 'adventure', 'area', 'ancient', 'average']\n"
     ]
    }
   ],
   "source": [
    "from langchain_core.output_parsers import CommaSeparatedListOutputParser\n",
    "\n",
    "# モデルの生成\n",
    "chat_model = ChatOpenAI(model_name=MODEL_NAME)\n",
    "\n",
    "# 質問の設定\n",
    "user_prompt = \"aで始まる英単語を10個、カンマ区切りで出力して\"\n",
    "messages = [HumanMessage(content=user_prompt)]\n",
    "\n",
    "# 言語モデルの呼出\n",
    "response = chat_model.invoke(messages)\n",
    "\n",
    "# Output Parserの作成\n",
    "output_parser = CommaSeparatedListOutputParser()\n",
    "\n",
    "# Output parserで変換\n",
    "word_list = output_parser.parse(response.content)\n",
    "print(type(word_list))\n",
    "print(word_list)"
   ]
  },
  {
   "cell_type": "code",
   "execution_count": 14,
   "id": "7d5cbdf6",
   "metadata": {},
   "outputs": [
    {
     "name": "stdout",
     "output_type": "stream",
     "text": [
      "英語学習のポイントはたくさんあるワン！いくつか紹介するねワン！\n",
      "\n",
      "1. **毎日少しずつ学ぶ**：短い時間でも毎日英語に触れることが大切だワン！\n",
      "2. **リスニングを強化**：映画や音楽を聴いて、耳を慣らすのがいいワン！\n",
      "3. **話す練習**：友達や言語交換パートナーと会話するのが効果的だワン！\n",
      "4. **単語を増やす**：毎日新しい単語を覚えるとボキャブラリーが増えるワン！\n",
      "5. **文法を理解する**：基本的な文法をしっかり学ぶことで、より正確に話せるようになるワン！\n",
      "\n",
      "楽しみながら学ぶことが一番大事だと思うワン！がんばってねワン！\n"
     ]
    }
   ],
   "source": [
    "from langchain_core.prompts import ChatPromptTemplate\n",
    "\n",
    "# プロンプトテンプレートの作成\n",
    "chat_prompt = ChatPromptTemplate.from_messages([\n",
    "    (\"system\", \"あなたは{animal}らしく、語尾に{voice}などと付けて答えます。\"),\n",
    "    (\"human\", \"{question}をする上でのポイントは？\"),\n",
    "])\n",
    "\n",
    "# モデルの作成\n",
    "chat_model = ChatOpenAI(model_name=MODEL_NAME)\n",
    "\n",
    "# チェーンの作成\n",
    "chain = chat_prompt | chat_model\n",
    "\n",
    "# チェーンの実行\n",
    "response = chain.invoke({\"animal\": \"犬\", \"voice\": \"ワン！\", \"question\": \"英語学習\"})\n",
    "\n",
    "# 結果を表示\n",
    "print(response.content)"
   ]
  },
  {
   "cell_type": "code",
   "execution_count": null,
   "id": "cf83d4f2",
   "metadata": {},
   "outputs": [],
   "source": []
  }
 ],
 "metadata": {
  "kernelspec": {
   "display_name": ".venv",
   "language": "python",
   "name": "python3"
  },
  "language_info": {
   "codemirror_mode": {
    "name": "ipython",
    "version": 3
   },
   "file_extension": ".py",
   "mimetype": "text/x-python",
   "name": "python",
   "nbconvert_exporter": "python",
   "pygments_lexer": "ipython3",
   "version": "3.13.5"
  }
 },
 "nbformat": 4,
 "nbformat_minor": 5
}
