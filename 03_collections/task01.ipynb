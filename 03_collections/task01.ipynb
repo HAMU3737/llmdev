{
 "cells": [
  {
   "cell_type": "code",
   "execution_count": 1,
   "id": "6f227783",
   "metadata": {},
   "outputs": [
    {
     "name": "stdout",
     "output_type": "stream",
     "text": [
      "平均点: 86.60\n",
      "最高点: 92\n",
      "最低点: 78\n",
      "平均以上の成績の学生数: 3\n"
     ]
    }
   ],
   "source": [
    "# 学生の成績リスト\n",
    "grades = [85, 90, 78, 92, 88]\n",
    "\n",
    "# 成績の平均点を計算\n",
    "average = sum(grades) / len(grades)\n",
    "\n",
    "# 成績の最高点と最低点を取得\n",
    "max_grade = max(grades)\n",
    "min_grade = min(grades)\n",
    "\n",
    "# 平均以上の成績の学生数をカウント\n",
    "above_average_count = sum(1 for grade in grades if grade >= average)\n",
    "\n",
    "# 結果の出力\n",
    "print(f\"平均点: {average:.2f}\")\n",
    "print(f\"最高点: {max_grade}\")\n",
    "print(f\"最低点: {min_grade}\")\n",
    "print(f\"平均以上の成績の学生数: {above_average_count}\")"
   ]
  },
  {
   "cell_type": "code",
   "execution_count": 2,
   "id": "26145e23",
   "metadata": {},
   "outputs": [
    {
     "name": "stdout",
     "output_type": "stream",
     "text": [
      "平均点: 80.00\n",
      "最高点: 90\n",
      "最低点: 70\n",
      "平均以上の成績の学生数: 3\n"
     ]
    }
   ],
   "source": [
    "# 学生の成績リスト\n",
    "grades = [70, 75, 80, 85, 90]\n",
    "\n",
    "# 成績の平均点を計算\n",
    "average = sum(grades) / len(grades)\n",
    "\n",
    "# 成績の最高点と最低点を取得\n",
    "max_grade = max(grades)\n",
    "min_grade = min(grades)\n",
    "\n",
    "# 平均以上の成績の学生数をカウント\n",
    "above_average_count = sum(1 for grade in grades if grade >= average)\n",
    "\n",
    "# 結果の出力\n",
    "print(f\"平均点: {average:.2f}\")\n",
    "print(f\"最高点: {max_grade}\")\n",
    "print(f\"最低点: {min_grade}\")\n",
    "print(f\"平均以上の成績の学生数: {above_average_count}\")"
   ]
  },
  {
   "cell_type": "code",
   "execution_count": null,
   "id": "85782e97",
   "metadata": {},
   "outputs": [],
   "source": []
  }
 ],
 "metadata": {
  "kernelspec": {
   "display_name": ".venv",
   "language": "python",
   "name": "python3"
  },
  "language_info": {
   "codemirror_mode": {
    "name": "ipython",
    "version": 3
   },
   "file_extension": ".py",
   "mimetype": "text/x-python",
   "name": "python",
   "nbconvert_exporter": "python",
   "pygments_lexer": "ipython3",
   "version": "3.13.5"
  }
 },
 "nbformat": 4,
 "nbformat_minor": 5
}
