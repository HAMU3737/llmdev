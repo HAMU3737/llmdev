{
 "cells": [
  {
   "cell_type": "code",
   "execution_count": 4,
   "id": "8628c3e1",
   "metadata": {},
   "outputs": [
    {
     "name": "stdout",
     "output_type": "stream",
     "text": [
      "\n",
      "入力された単語リスト:\n",
      "['beer', 'book', 'books', 'cat', 'dog', 'drink', 'hanako', 'tarou']\n",
      "\n",
      "アルファベットの出現回数:\n",
      "aが4個ありました\n",
      "bが3個ありました\n",
      "cが1個ありました\n",
      "dが2個ありました\n",
      "eが2個ありました\n",
      "gが1個ありました\n",
      "hが1個ありました\n",
      "iが1個ありました\n",
      "kが4個ありました\n",
      "nが2個ありました\n",
      "oが7個ありました\n",
      "rが3個ありました\n",
      "sが1個ありました\n",
      "tが2個ありました\n",
      "uが1個ありました\n"
     ]
    }
   ],
   "source": [
    "# 1. 空の単語リストを作成\n",
    "words = []\n",
    "\n",
    "# 2. アルファベットごとのカウント用辞書を初期化\n",
    "alphabet_list = {chr(i): 0 for i in range(ord('a'), ord('z') + 1)}\n",
    "\n",
    "# 3. 単語入力を繰り返し受付\n",
    "while True:\n",
    "    word = input(\"英単語を入力してください（終了したい場合はEnter）: \")\n",
    "    if word == \"\":\n",
    "        break\n",
    "    words.append(word)\n",
    "    \n",
    "    # 文字ごとにカウント\n",
    "    for char in word.lower():\n",
    "        if char in alphabet_list:\n",
    "            alphabet_list[char] += 1\n",
    "\n",
    "# 4. アルファベット順に並び替える\n",
    "words.sort()\n",
    "\n",
    "# 5. 一覧表示\n",
    "print(\"\\n入力された単語リスト:\")\n",
    "print(words)\n",
    "\n",
    "# 6. 出現回数を表示\n",
    "print(\"\\nアルファベットの出現回数:\")\n",
    "for letter, count in alphabet_list.items():\n",
    "    if count > 0:\n",
    "        print(f\"{letter}が{count}個ありました\")"
   ]
  },
  {
   "cell_type": "code",
   "execution_count": null,
   "id": "d3155cf9",
   "metadata": {},
   "outputs": [],
   "source": []
  }
 ],
 "metadata": {
  "kernelspec": {
   "display_name": ".venv",
   "language": "python",
   "name": "python3"
  },
  "language_info": {
   "codemirror_mode": {
    "name": "ipython",
    "version": 3
   },
   "file_extension": ".py",
   "mimetype": "text/x-python",
   "name": "python",
   "nbconvert_exporter": "python",
   "pygments_lexer": "ipython3",
   "version": "3.13.5"
  }
 },
 "nbformat": 4,
 "nbformat_minor": 5
}
