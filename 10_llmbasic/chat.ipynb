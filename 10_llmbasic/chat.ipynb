{
 "cells": [
  {
   "cell_type": "code",
   "execution_count": 1,
   "id": "b6b1ac46",
   "metadata": {},
   "outputs": [],
   "source": [
    "# 必要なモジュールをインポート\n",
    "import os\n",
    "from dotenv import load_dotenv\n",
    "from openai import OpenAI\n",
    "from pprint import pprint\n",
    "\n",
    "# 環境変数の取得\n",
    "load_dotenv(\"../.env\")\n",
    "\n",
    "# OpenAI APIクライアントを生成\n",
    "client = OpenAI(api_key=os.environ['API_KEY'])\n",
    "\n",
    "# モデル名\n",
    "MODEL_NAME = \"gpt-4o-mini\""
   ]
  },
  {
   "cell_type": "code",
   "execution_count": 2,
   "id": "34b0fb04",
   "metadata": {},
   "outputs": [
    {
     "name": "stdout",
     "output_type": "stream",
     "text": [
      "{'_request_id': 'req_7fc128bc3f6b477f9f42f22e58f125ad',\n",
      " 'choices': [Choice(finish_reason='stop', index=0, logprobs=None, message=ChatCompletionMessage(content='言語モデルを効果的に使うためのポイントはいくつかあります。以下に主な点を挙げます。\\n\\n1. **明確な目的設定**: モデルを使用する目的を明確にしましょう。情報検索、文章生成、要約、翻訳など、用途に応じたプロンプトを作成します。\\n\\n2. **適切なプロンプト設計**: 質問や指示は具体的で明確にしましょう。曖昧な表現だと、期待した結果が得られないことがあります。\\n\\n3. **コンテキストの提供**: モデルが理解しやすいように、必要な情報や背景を提供します。特に、長い会話や複雑なタスクでは重要です。\\n\\n4. **反復と調整**: モデルの出力を評価し、必要に応じてプロンプトを修正しましょう。実験を重ねることで、より良い結果を得られることが多いです。\\n\\n5. **エラーの理解と管理**: モデルが時々誤った情報を生成することを理解し、そのリスクを考慮に入れた上で使用します。特に重要な決定に関しては、他の情報源との照合が必要です。\\n\\n6. **倫理的配慮**: 言語モデルには偏見や不適切な内容が含まれることがあります。社会的な影響を考慮し、出力内容に注意を払いましょう。\\n\\n7. **トレーニングデータの理解**: モデルがどのようなデータで学習しているかを理解することで、出力の信頼性や限界を把握できます。\\n\\n8. **フォローアップ**: モデルの出力に対して質問を重ねたり、さらなる詳細を求めたりすることで、より深い情報を得ることができます。\\n\\nこれらのポイントを考慮することで、言語モデルをより効果的に活用できます。', refusal=None, role='assistant', audio=None, function_call=None, tool_calls=None, annotations=[]))],\n",
      " 'created': 1756390355,\n",
      " 'id': 'chatcmpl-C9Xed0lYfEYOf8GYtvIRbHEX9c9g0',\n",
      " 'model': 'gpt-4o-mini-2024-07-18',\n",
      " 'object': 'chat.completion',\n",
      " 'service_tier': 'default',\n",
      " 'system_fingerprint': 'fp_560af6e559',\n",
      " 'usage': CompletionUsage(completion_tokens=464, prompt_tokens=18, total_tokens=482, completion_tokens_details=CompletionTokensDetails(accepted_prediction_tokens=0, audio_tokens=0, reasoning_tokens=0, rejected_prediction_tokens=0), prompt_tokens_details=PromptTokensDetails(audio_tokens=0, cached_tokens=0))}\n"
     ]
    }
   ],
   "source": [
    "# メッセージの設定\n",
    "message = \"言語モデルを使う上でのポイントは\"\n",
    "\n",
    "# APIへリクエスト\n",
    "response = client.chat.completions.create(\n",
    "    model=MODEL_NAME,\n",
    "    messages=[\n",
    "        {\"role\": \"user\", \"content\": message},\n",
    "    ]\n",
    ")\n",
    "\n",
    "# レスポンスの表示\n",
    "pprint(vars(response))"
   ]
  },
  {
   "cell_type": "code",
   "execution_count": 5,
   "id": "96781476",
   "metadata": {},
   "outputs": [
    {
     "name": "stdout",
     "output_type": "stream",
     "text": [
      "言語モデルを効果的に使うためのポイントはいくつかあります。以下に主な点を挙げます。\n",
      "\n",
      "1. **明確な目的設定**: モデルを使用する目的を明確にしましょう。情報検索、文章生成、要約、翻訳など、用途に応じたプロンプトを作成します。\n",
      "\n",
      "2. **適切なプロンプト設計**: 質問や指示は具体的で明確にしましょう。曖昧な表現だと、期待した結果が得られないことがあります。\n",
      "\n",
      "3. **コンテキストの提供**: モデルが理解しやすいように、必要な情報や背景を提供します。特に、長い会話や複雑なタスクでは重要です。\n",
      "\n",
      "4. **反復と調整**: モデルの出力を評価し、必要に応じてプロンプトを修正しましょう。実験を重ねることで、より良い結果を得られることが多いです。\n",
      "\n",
      "5. **エラーの理解と管理**: モデルが時々誤った情報を生成することを理解し、そのリスクを考慮に入れた上で使用します。特に重要な決定に関しては、他の情報源との照合が必要です。\n",
      "\n",
      "6. **倫理的配慮**: 言語モデルには偏見や不適切な内容が含まれることがあります。社会的な影響を考慮し、出力内容に注意を払いましょう。\n",
      "\n",
      "7. **トレーニングデータの理解**: モデルがどのようなデータで学習しているかを理解することで、出力の信頼性や限界を把握できます。\n",
      "\n",
      "8. **フォローアップ**: モデルの出力に対して質問を重ねたり、さらなる詳細を求めたりすることで、より深い情報を得ることができます。\n",
      "\n",
      "これらのポイントを考慮することで、言語モデルをより効果的に活用できます。\n"
     ]
    }
   ],
   "source": [
    "# 言語モデルからの回答を表示\n",
    "print(response.choices[0].message.content.strip())"
   ]
  },
  {
   "cell_type": "code",
   "execution_count": 6,
   "id": "d80e75b3",
   "metadata": {},
   "outputs": [
    {
     "name": "stdout",
     "output_type": "stream",
     "text": [
      "新製品の発売に向けた効果的なマーケティング戦略には、いくつかの重要なステップがあります。以下の戦略を参考にしてください。\n",
      "\n",
      "### 1. 市場調査の実施\n",
      "- **ターゲット市場の特定**: 誰が新製品を購入する可能性があるかを明確にします。\n",
      "- **競合分析**: 同じ市場に存在する競合製品やサービスを調査し、強みや弱みを把握します。\n",
      "\n",
      "### 2. 製品ポジショニングの確立\n",
      "- **USP（ユニークな販売提案）を定義**: 製品の独自性や差別化要因を明確にし、顧客に何を提供できるのかを伝えます。\n",
      "\n",
      "### 3. マーケティングミックスの策定 (4P)\n",
      "- **製品（Product）**: 製品の特徴、デザイン、パッケージなどを考慮します。\n",
      "- **価格（Price）**: 適切な価格設定を行います。競合やコスト、顧客の支払い意欲を考慮しましょう。\n",
      "- **流通（Place）**: 製品をどのように提供するか、販売チャネルを決定します（オンライン、店舗、代理店など）。\n",
      "- **プロモーション（Promotion）**: 広告、PR、イベント、SNSなど、多様なプロモーション手法を検討します。\n",
      "\n",
      "### 4. プリ・ローンチキャンペーンの実施\n",
      "- **ティーザー広告**: 製品発売前に消費者の興味を引くためのティーザーキャンペーンを行います。\n",
      "- **ソーシャルメディアの活用**: インフルエンサーや企業公式アカウントを通じて情報を発信し、エンゲージメントを高めます。\n",
      "\n",
      "### 5. コミュニティの形成\n",
      "- **フォロワーやファンの獲得**: 初期の顧客やブランドの支持者を積極的に育て、製品へのフィードバックを受け入れるコミュニティを形成します。\n",
      "\n",
      "### 6. 発売日・イベントの計画\n",
      "- **ローンチイベント**: 新製品の発売を祝うイベントを開催し、メディアの注目を集めます。\n",
      "- **特別オファー**: 発売日限定の割引や特典を用意し、即時の購買を促進します。\n",
      "\n",
      "### 7. 顧客からのフィードバックの収集と改善\n",
      "- **アンケートやレビュー**: 発売後は顧客からのフィードバックを収集し、製品やサービスの改善に役立てます。\n",
      "\n",
      "### 8. 持続的なマーケティングの実施\n",
      "- **リマーケティング**: 自社サイトを訪れたが購入しなかったユーザーに対してリマーケティング広告を実施します。\n",
      "- **コンテンツマーケティング**: 製品に関連する情報を提供し、潜在顧客との信頼関係を構築します。\n",
      "\n",
      "これらのステップを通じて、新製品の認知度と顧客の関心を高め、持続的な成長を実現することができます。\n"
     ]
    }
   ],
   "source": [
    "# 役割や前提の設定\n",
    "role = \"あなたはマーケティング分野に精通したビジネスコンサルタントです。企業の成長をサポートするために、効果的なマーケティング戦略を提供します。\"\n",
    "\n",
    "# メッセージの設定\n",
    "message = \"新製品の発売に向けた効果的なマーケティング戦略を教えてください。\"\n",
    "\n",
    "# APIへリクエスト\n",
    "response = client.chat.completions.create(\n",
    "    model=MODEL_NAME,\n",
    "    messages=[\n",
    "        {\"role\": \"system\", \"content\": role},\n",
    "        {\"role\": \"user\", \"content\": message},\n",
    "    ],\n",
    ")\n",
    "\n",
    "# 言語モデルからの回答を表示\n",
    "print(response.choices[0].message.content.strip())"
   ]
  },
  {
   "cell_type": "code",
   "execution_count": 9,
   "id": "6cd79579",
   "metadata": {},
   "outputs": [
    {
     "name": "stdout",
     "output_type": "stream",
     "text": [
      "--------------------\n",
      "もちろんです！日本には魅力的な文化、歴史、自然、食品など、多くの素晴らしい要素があります。以下にいくつか紹介します。\n",
      "\n",
      "### 1. **豊かな文化**\n",
      "   - **伝統的な祭り**：日本では四季折々の祭りがあり、桜の季節に行われる「花見」や、夏の「盆祭り」などがあります。\n",
      "   - **茶道\n",
      "--------------------\n",
      "日本にはたくさんの魅力があります！以下にいくつかのポイントを紹介します。\n",
      "\n",
      "### 1. 文化と歴史\n",
      "- **伝統行事**: 茶道や書道、華道など、日本の伝統文化は深い歴史に根ざしています。また、花見やお節料理、お盆など様々な季節行事も魅力の一つです。\n",
      "- **神社と寺**: 全国各\n",
      "--------------------\n",
      "もちろん、日本の魅力には様々な要素があります。以下はその一部です：\n",
      "\n",
      "### 1. 文化と歴史\n",
      "- **伝統的な文化**: 侍や忍者、歌舞伎、茶道、および日本の祭礼など、独自の伝統文化が息づいています。\n",
      "- **古代遺跡**: 古都京都や奈良には古い寺や神社が多く\n"
     ]
    }
   ],
   "source": [
    "# 出力の多様性\n",
    "message = \"日本の魅力を紹介して！\"\n",
    "\n",
    "# APIへリクエスト\n",
    "response = client.chat.completions.create(\n",
    "    model=MODEL_NAME,\n",
    "    messages=[\n",
    "        {\"role\": \"user\", \"content\": message},\n",
    "    ],\n",
    "    temperature=1.4,\n",
    "    n = 3, # 3回答を得る\n",
    "    max_completion_tokens = 100 # 出力トークン長を制限\n",
    ")\n",
    "\n",
    "# 結果を表示（複数回答を比較）\n",
    "for choice in response.choices:\n",
    "    print(\"-\" * 20)\n",
    "    print(choice.message.content.strip())"
   ]
  },
  {
   "cell_type": "code",
   "execution_count": 10,
   "id": "d557ea41",
   "metadata": {},
   "outputs": [
    {
     "name": "stdout",
     "output_type": "stream",
     "text": [
      "--------------------\n",
      "もちろんです！日本には多くの魅力がありますので、いくつかのポイントを挙げてみます。\n",
      "\n",
      "### 1. 豊かな自然\n",
      "日本は四季がはっきりしており、春には桜、夏には海、秋には紅葉、冬には雪景色を楽しむことができます。特に、富士山や日本アルプス、四国の山々など自然の美しい景色が\n",
      "--------------------\n",
      "もちろん、日本の魅力はたくさんあります！いくつかのポイントを挙げて紹介しますね。\n",
      "\n",
      "1. **美しい自然**: 日本は四季がはっきりしており、それぞれの季節に美しい風景が楽しめます。桜の季節（春）、紅葉の季節（秋）、雪景色の（冬）など、自然の美しさがさまざまな表情\n",
      "--------------------\n",
      "もちろんです！日本は多様な文化、歴史、景観、食文化などが魅力的な国です。以下に日本の魅力をいくつか紹介します。\n",
      "\n",
      "### 1. 文化と歴史\n",
      "日本は長い歴史を持っており、伝統的な文化と現代文化が共存しています。寺院や神社、城などの歴史的な建造物は、訪れる人々に\n"
     ]
    }
   ],
   "source": [
    "# 出力の多様性\n",
    "message = \"日本の魅力を紹介して！\"\n",
    "\n",
    "# APIへリクエスト\n",
    "response = client.chat.completions.create(\n",
    "    model=MODEL_NAME,\n",
    "    messages=[\n",
    "        {\"role\": \"user\", \"content\": message},\n",
    "    ],\n",
    "    presence_penalty=-2.0,\n",
    "    n = 3, # 3回答を得る\n",
    "    max_completion_tokens = 100 # 出力トークン長を制限\n",
    ")\n",
    "\n",
    "# 結果を表示（複数回答を比較）\n",
    "for choice in response.choices:\n",
    "    print(\"-\" * 20)\n",
    "    print(choice.message.content.strip())"
   ]
  },
  {
   "cell_type": "code",
   "execution_count": 11,
   "id": "fa65080c",
   "metadata": {},
   "outputs": [
    {
     "name": "stdout",
     "output_type": "stream",
     "text": [
      "tokens_count=2\n",
      "tokens=[95839, 3393]\n"
     ]
    }
   ],
   "source": [
    "import tiktoken\n",
    "from tiktoken.core import Encoding\n",
    "\n",
    "# OpenAI APIの特定のモデルに対応するトークナイザーを取得\n",
    "encoding: Encoding = tiktoken.encoding_for_model(MODEL_NAME) # o200k_base\n",
    "\n",
    "# テキストをトークンIDのリストに変換\n",
    "tokens = encoding.encode(\"こんにちは！\")\n",
    "tokens_count = len(tokens)\n",
    "\n",
    "# トークンの長さとトークンIDを表示\n",
    "print(f\"{tokens_count=}\")\n",
    "print(f\"{tokens=}\")"
   ]
  },
  {
   "cell_type": "code",
   "execution_count": 12,
   "id": "f4b647ea",
   "metadata": {},
   "outputs": [
    {
     "name": "stdout",
     "output_type": "stream",
     "text": [
      "--------------------\n",
      "B:こんにちは、Aさん！最近どう？\n",
      "--------------------\n",
      "B:こんにちは！Aさん、今日はどうしたの？\n",
      "--------------------\n",
      "B:こんにちは！Aさん、元気ですか？\n"
     ]
    }
   ],
   "source": [
    "# トークンの選択度合い\n",
    "message = \"\"\"\n",
    "AさんとBさんで会話してください。\n",
    "A:あ、Bさんだ。\n",
    "B:\n",
    "\"\"\"\n",
    "\n",
    "# APIへリクエスト\n",
    "response = client.chat.completions.create(\n",
    "    model=MODEL_NAME,\n",
    "    messages=[\n",
    "        {\"role\": \"user\", \"content\": message},\n",
    "    ],\n",
    "    max_tokens=100,\n",
    "    n=3,\n",
    "    logit_bias = {95839:8, 3393:8}\n",
    ")\n",
    "\n",
    "# 結果を表示\n",
    "for choice in response.choices:\n",
    "    print(\"-\" * 20)\n",
    "    print(choice.message.content.strip())"
   ]
  },
  {
   "cell_type": "code",
   "execution_count": 13,
   "id": "06514cb9",
   "metadata": {},
   "outputs": [
    {
     "name": "stdout",
     "output_type": "stream",
     "text": [
      "言語モデルを効果的に活用するためのポイントはいくつかあります。\n",
      "\n",
      "1. **明確なプロンプト**: 言語モデルに与える指示や質問は明確で具体的であるべきです。曖昧な表現は期待する結果を得るのを難しくします。\n",
      "\n",
      "2. **コンテキストの提供**: モデルがより良い応答を生成するためには、関連する背景情報やコンテキストを提供することが重要です。これにより、より具体的で適切な応答が得られます。\n",
      "\n",
      "3. **モデルの限界を理解する**: 言語モデルには限界があります。最新の情報や専門的な知識、事実確認については正確性が欠ける場合があります。そのため、必要に応じて他の情報源と照らし合わせることが大切です。\n",
      "\n",
      "4. **フィードバックの活用**: 得られた応答を評価し、求めている結果に近づけるためにプロンプトを調整することが重要です。フィードバックをもとにやり取りを改善していきましょう。\n",
      "\n",
      "5. **多様な応用**: 言語モデルは、文章生成、要約、翻訳、質問応答など多様な用途に利用できます。実験を重ねて、自分に合った使い方を見つけることをおすすめします。\n",
      "\n",
      "6. **倫理的配慮**: 言語モデルを使用する際には、その利用が倫理的であるかどうかを常に考慮し、偏見のある内容や誤情報の拡散を避けるよう心掛けましょう。\n",
      "\n",
      "7. **ユーザビリティの向上**: モデルの出力を自分のスタイルに合うように修正したり、結果にクリエイティブな添え書きを加えたりすることで、実用性が高まります。\n",
      "\n",
      "これらのポイントを意識することで、言語モデルをより効果的に活用することができます。"
     ]
    }
   ],
   "source": [
    "# メッセージの設定\n",
    "message = \"言語モデルを使う上でのポイントは\"\n",
    "\n",
    "# APIへリクエスト\n",
    "stream = client.chat.completions.create(\n",
    "    model=MODEL_NAME,\n",
    "    messages=[\n",
    "        {\"role\": \"user\", \"content\": message},\n",
    "    ],\n",
    "    stream=True,\n",
    ")\n",
    "\n",
    "for chunk in stream:\n",
    "    if chunk.choices:\n",
    "        if chunk.choices[0].delta.content is not None:\n",
    "            print(chunk.choices[0].delta.content, end=\"\")"
   ]
  },
  {
   "cell_type": "code",
   "execution_count": null,
   "id": "90bab81a",
   "metadata": {},
   "outputs": [],
   "source": []
  }
 ],
 "metadata": {
  "kernelspec": {
   "display_name": ".venv",
   "language": "python",
   "name": "python3"
  },
  "language_info": {
   "codemirror_mode": {
    "name": "ipython",
    "version": 3
   },
   "file_extension": ".py",
   "mimetype": "text/x-python",
   "name": "python",
   "nbconvert_exporter": "python",
   "pygments_lexer": "ipython3",
   "version": "3.13.5"
  }
 },
 "nbformat": 4,
 "nbformat_minor": 5
}
