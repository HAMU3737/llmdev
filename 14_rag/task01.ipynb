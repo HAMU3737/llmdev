{
 "cells": [
  {
   "cell_type": "code",
   "execution_count": 1,
   "id": "d71ed035",
   "metadata": {},
   "outputs": [
    {
     "data": {
      "text/plain": [
       "'質問:こんにちは！'"
      ]
     },
     "metadata": {},
     "output_type": "display_data"
    },
    {
     "name": "stdout",
     "output_type": "stream",
     "text": [
      "回答： こんにちは！今日はどんなことをお手伝いできますか？\n",
      "\n"
     ]
    },
    {
     "data": {
      "text/plain": [
       "'質問:退職の申し出と届出'"
      ]
     },
     "metadata": {},
     "output_type": "display_data"
    },
    {
     "name": "stdout",
     "output_type": "stream",
     "text": [
      "回答： 退職の申し出と届出についての情報は以下の通りです。\n",
      "\n",
      "### 退職の申し出の方法\n",
      "1. **申し出のタイミング**: 退職を希望する場合、原則として退職希望日の1ヶ月前までに直属の上司に申し出る必要があります。\n",
      "2. **申し出の方法**: 口頭での申し出が一般的ですが、正式な書面での提出が求められる場合もあります。申し出後は、退職日や引き継ぎ内容について上司や人事部と協議を行います。\n",
      "\n",
      "### 退職届の書き方\n",
      "退職届は、退職の意思を正式に伝えるための書面です。以下のポイントを押さえて作成してください。\n",
      "\n",
      "1. **タイトル**: 書類の最上部に「退職届」と明記します。\n",
      "2. **日付**: 提出する日付を記入します。\n",
      "3. **宛名**: 直属の上司の名前を記載します。\n",
      "4. **本文**:\n",
      "   - 自分の名前と「私は、[退職希望日]をもって退職いたします。」と明記します。\n",
      "   - 退職理由を簡潔に述べることもできますが、必須ではありません。\n",
      "5. **署名**: 最後に自分の名前を手書きで署名します。\n",
      "\n",
      "退職届を提出した後は、上司や人事部と退職日や引き継ぎ内容について協議を行うことになります。\n",
      "\n",
      "何か他に知りたいことがあれば教えてください！\n",
      "\n",
      "\n",
      "---ご利用ありがとうございました！---\n"
     ]
    }
   ],
   "source": [
    "# 必要なモジュールをインポート\n",
    "import os\n",
    "from dotenv import load_dotenv\n",
    "from llama_index.core import VectorStoreIndex, SimpleDirectoryReader\n",
    "from llama_index.llms.openai import OpenAI\n",
    "\n",
    "# 環境変数の取得\n",
    "load_dotenv(\"../.env\")\n",
    "os.environ['OPENAI_API_KEY']  = os.environ['API_KEY']\n",
    "\n",
    "# モデル名\n",
    "MODEL_NAME = \"gpt-4o-mini\"\n",
    "\n",
    "# Indexの構築\n",
    "documents = SimpleDirectoryReader('./data/text').load_data()\n",
    "index = VectorStoreIndex.from_documents(documents)\n",
    "\n",
    "# Chat Engineの作成\n",
    "llm = OpenAI(model=MODEL_NAME)\n",
    "chat_engine = index.as_chat_engine(llm=llm)\n",
    "\n",
    "# チャットの開始\n",
    "while(True):\n",
    "    message = input(\"メッセージを入力:\")\n",
    "    if message.strip()==\"\":\n",
    "        break\n",
    "    display(f\"質問:{message}\")\n",
    "\n",
    "    # 質問（以下にソースコードを記述）\n",
    "    response = chat_engine.chat(message)\n",
    "\n",
    "    # 回答を表示（以下にソースコードを記述）\n",
    "    print(f\"回答： {response.response}\\n\")\n",
    "\n",
    "print(\"\\n---ご利用ありがとうございました！---\")"
   ]
  },
  {
   "cell_type": "code",
   "execution_count": null,
   "id": "92c19db7",
   "metadata": {},
   "outputs": [],
   "source": []
  }
 ],
 "metadata": {
  "kernelspec": {
   "display_name": ".venv",
   "language": "python",
   "name": "python3"
  },
  "language_info": {
   "codemirror_mode": {
    "name": "ipython",
    "version": 3
   },
   "file_extension": ".py",
   "mimetype": "text/x-python",
   "name": "python",
   "nbconvert_exporter": "python",
   "pygments_lexer": "ipython3",
   "version": "3.13.5"
  }
 },
 "nbformat": 4,
 "nbformat_minor": 5
}
