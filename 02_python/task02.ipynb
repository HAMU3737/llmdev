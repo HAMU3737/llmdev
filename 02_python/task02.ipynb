{
 "cells": [
  {
   "cell_type": "code",
   "execution_count": 5,
   "id": "4158e44b",
   "metadata": {},
   "outputs": [
    {
     "name": "stdout",
     "output_type": "stream",
     "text": [
      "送料は無料です\n",
      "送料込価格は2458円です\n"
     ]
    }
   ],
   "source": [
    "# 税抜価格を入力\n",
    "price_excl_tax = int(input(\"税抜価格を入力してください: \"))\n",
    "\n",
    "# 税込価格を計算（消費税10%）\n",
    "price_incl_tax = int(price_excl_tax * 1.1)\n",
    "\n",
    "# 送料を判定\n",
    "if price_incl_tax >= 2000:\n",
    "    shipping_fee = 0\n",
    "    print(\"送料は無料です\")\n",
    "else:\n",
    "    shipping_fee = 350\n",
    "    print(f\"送料は{shipping_fee}円です\")\n",
    "\n",
    "# 送料込価格を計算\n",
    "total_price = price_incl_tax + shipping_fee\n",
    "\n",
    "# 結果を表示（送料込価格のみ）\n",
    "print(f\"送料込価格は{total_price}円です\")"
   ]
  },
  {
   "cell_type": "code",
   "execution_count": null,
   "id": "bb08e446",
   "metadata": {},
   "outputs": [],
   "source": []
  }
 ],
 "metadata": {
  "kernelspec": {
   "display_name": ".venv",
   "language": "python",
   "name": "python3"
  },
  "language_info": {
   "codemirror_mode": {
    "name": "ipython",
    "version": 3
   },
   "file_extension": ".py",
   "mimetype": "text/x-python",
   "name": "python",
   "nbconvert_exporter": "python",
   "pygments_lexer": "ipython3",
   "version": "3.13.5"
  }
 },
 "nbformat": 4,
 "nbformat_minor": 5
}
