{
 "cells": [
  {
   "cell_type": "code",
   "execution_count": 7,
   "id": "26415c7e",
   "metadata": {},
   "outputs": [
    {
     "name": "stdout",
     "output_type": "stream",
     "text": [
      "10年後の金額: 1628.89 円\n"
     ]
    }
   ],
   "source": [
    "# 元金を入力\n",
    "principal = int(input(\"元金を入力してください: \"))\n",
    "\n",
    "# 利率（年利）を入力\n",
    "annual_interest_rate = int(input(\"年利を入力してください: \"))\n",
    "\n",
    "# 10年間複利で運用\n",
    "for year in range(1, 11):\n",
    "    principal *= (1 + annual_interest_rate / 100)\n",
    "\n",
    "# 小数点第2位まで表示（:.2f）\n",
    "print(f\"10年後の金額: {principal:.2f} 円\")"
   ]
  },
  {
   "cell_type": "code",
   "execution_count": null,
   "id": "2bb53013",
   "metadata": {},
   "outputs": [],
   "source": []
  }
 ],
 "metadata": {
  "kernelspec": {
   "display_name": ".venv",
   "language": "python",
   "name": "python3"
  },
  "language_info": {
   "codemirror_mode": {
    "name": "ipython",
    "version": 3
   },
   "file_extension": ".py",
   "mimetype": "text/x-python",
   "name": "python",
   "nbconvert_exporter": "python",
   "pygments_lexer": "ipython3",
   "version": "3.13.5"
  }
 },
 "nbformat": 4,
 "nbformat_minor": 5
}
