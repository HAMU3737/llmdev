{
 "cells": [
  {
   "cell_type": "code",
   "execution_count": 1,
   "id": "06e021a1",
   "metadata": {},
   "outputs": [
    {
     "name": "stdout",
     "output_type": "stream",
     "text": [
      "a: 10\n",
      "b: -5\n",
      "c: 0\n",
      "合計: 5\n",
      "積: -50\n"
     ]
    }
   ],
   "source": [
    "# 整数の代入\n",
    "a = 10\n",
    "b = -5\n",
    "c = 0\n",
    "\n",
    "# 整数同士の計算\n",
    "sum_result = a + b  # 10 + (-5) = 5\n",
    "product_result = a * b  # 10 * (-5) = -50\n",
    "\n",
    "print(\"a:\", a)\n",
    "print(\"b:\", b)\n",
    "print(\"c:\", c)\n",
    "print(\"合計:\", sum_result)\n",
    "print(\"積:\", product_result)"
   ]
  },
  {
   "cell_type": "code",
   "execution_count": null,
   "id": "bb358221",
   "metadata": {},
   "outputs": [],
   "source": []
  }
 ],
 "metadata": {
  "kernelspec": {
   "display_name": ".venv",
   "language": "python",
   "name": "python3"
  },
  "language_info": {
   "codemirror_mode": {
    "name": "ipython",
    "version": 3
   },
   "file_extension": ".py",
   "mimetype": "text/x-python",
   "name": "python",
   "nbconvert_exporter": "python",
   "pygments_lexer": "ipython3",
   "version": "3.13.5"
  }
 },
 "nbformat": 4,
 "nbformat_minor": 5
}
