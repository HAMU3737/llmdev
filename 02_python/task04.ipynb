{
 "cells": [
  {
   "cell_type": "code",
   "execution_count": 6,
   "id": "1b84cabe",
   "metadata": {},
   "outputs": [
    {
     "name": "stdout",
     "output_type": "stream",
     "text": [
      "計算結果: 10.0\n"
     ]
    }
   ],
   "source": [
    "try:\n",
    "    # 数値の入力\n",
    "    num1 = int(input(\"整数を入力してください: \"))\n",
    "    num2 = int(input(\"整数を入力してください: \"))\n",
    "    result = num1 / num2\n",
    "\n",
    "    # 例外処理\n",
    "except ZeroDivisionError:\n",
    "    print(\"エラー: 0で割ることはできません\")\n",
    "except ValueError:\n",
    "    print(\"エラー: 数値を入力してください\")\n",
    "\n",
    "    # 結果の出力\n",
    "else:\n",
    "    print(f\"計算結果: {result}\")"
   ]
  },
  {
   "cell_type": "code",
   "execution_count": null,
   "id": "77b949c6",
   "metadata": {},
   "outputs": [],
   "source": []
  }
 ],
 "metadata": {
  "kernelspec": {
   "display_name": ".venv",
   "language": "python",
   "name": "python3"
  },
  "language_info": {
   "codemirror_mode": {
    "name": "ipython",
    "version": 3
   },
   "file_extension": ".py",
   "mimetype": "text/x-python",
   "name": "python",
   "nbconvert_exporter": "python",
   "pygments_lexer": "ipython3",
   "version": "3.13.5"
  }
 },
 "nbformat": 4,
 "nbformat_minor": 5
}
