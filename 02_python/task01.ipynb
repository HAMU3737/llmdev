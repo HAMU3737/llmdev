{
 "cells": [
  {
   "cell_type": "code",
   "execution_count": null,
   "id": "00c34bdb",
   "metadata": {},
   "outputs": [
    {
     "name": "stdout",
     "output_type": "stream",
     "text": [
      "はじめまして、竹下 公一朗 と申します。\n",
      "年齢は 36 歳です。来年は 37 歳になります。\n",
      "よろしくお願いします。\n"
     ]
    }
   ],
   "source": [
    "# 名前と年齢を変数として定義\n",
    "name = \"竹下 公一朗\"\n",
    "age = 36\n",
    "\n",
    "# 結果を表示\n",
    "print(f\"はじめまして、{name} と申します。\")\n",
    "print(f\"年齢は {age} 歳です。来年は {age + 1} 歳になります。\")\n",
    "print(\"よろしくお願いします。\")"
   ]
  },
  {
   "cell_type": "code",
   "execution_count": null,
   "id": "c87c06c9",
   "metadata": {},
   "outputs": [],
   "source": []
  }
 ],
 "metadata": {
  "kernelspec": {
   "display_name": ".venv",
   "language": "python",
   "name": "python3"
  },
  "language_info": {
   "codemirror_mode": {
    "name": "ipython",
    "version": 3
   },
   "file_extension": ".py",
   "mimetype": "text/x-python",
   "name": "python",
   "nbconvert_exporter": "python",
   "pygments_lexer": "ipython3",
   "version": "3.13.5"
  }
 },
 "nbformat": 4,
 "nbformat_minor": 5
}
