{
 "cells": [
  {
   "cell_type": "code",
   "execution_count": 1,
   "id": "64d9a8fc",
   "metadata": {},
   "outputs": [
    {
     "name": "stdout",
     "output_type": "stream",
     "text": [
      "  カテゴリー  商品コード   商品名        売上日    単価   数量    原価\n",
      "0    食品   1001   りんご 2023-01-01   200   50   120\n",
      "1    食品   1002   バナナ 2023-01-01   150  100    80\n",
      "2    食品   1003    牛乳 2023-01-02   180   80   100\n",
      "3    衣服   2001  Tシャツ 2023-01-02  1500   20   800\n",
      "4    衣服   2002  ジーンズ 2023-01-03  5000   10  2500\n"
     ]
    }
   ],
   "source": [
    "import pandas as pd\n",
    "\n",
    "# Excelファイル読み込み\n",
    "df = pd.read_excel(\"sample.xlsx\")  \n",
    "\n",
    "# 先頭5行を表示\n",
    "print(df.head())"
   ]
  },
  {
   "cell_type": "code",
   "execution_count": null,
   "id": "6f18e65b",
   "metadata": {},
   "outputs": [],
   "source": []
  }
 ],
 "metadata": {
  "kernelspec": {
   "display_name": ".venv",
   "language": "python",
   "name": "python3"
  },
  "language_info": {
   "codemirror_mode": {
    "name": "ipython",
    "version": 3
   },
   "file_extension": ".py",
   "mimetype": "text/x-python",
   "name": "python",
   "nbconvert_exporter": "python",
   "pygments_lexer": "ipython3",
   "version": "3.13.5"
  }
 },
 "nbformat": 4,
 "nbformat_minor": 5
}
