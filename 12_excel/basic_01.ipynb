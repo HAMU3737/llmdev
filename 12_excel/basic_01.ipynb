{
 "cells": [
  {
   "cell_type": "code",
   "execution_count": 1,
   "id": "cd653f35",
   "metadata": {},
   "outputs": [],
   "source": [
    "import os\n",
    "from dotenv import load_dotenv\n",
    "from openai import OpenAI\n",
    "import pandas as pd\n",
    "\n",
    "# 環境変数の取得\n",
    "load_dotenv()\n",
    "\n",
    "# OpenAI APIクライアントを生成\n",
    "client = OpenAI(api_key=os.environ['API_KEY'])\n",
    "\n",
    "# モデル名\n",
    "MODEL_NAME = \"gpt-4o-mini\""
   ]
  },
  {
   "cell_type": "code",
   "execution_count": 10,
   "id": "f01b530c",
   "metadata": {},
   "outputs": [
    {
     "data": {
      "text/html": [
       "<div>\n",
       "<style scoped>\n",
       "    .dataframe tbody tr th:only-of-type {\n",
       "        vertical-align: middle;\n",
       "    }\n",
       "\n",
       "    .dataframe tbody tr th {\n",
       "        vertical-align: top;\n",
       "    }\n",
       "\n",
       "    .dataframe thead th {\n",
       "        text-align: right;\n",
       "    }\n",
       "</style>\n",
       "<table border=\"1\" class=\"dataframe\">\n",
       "  <thead>\n",
       "    <tr style=\"text-align: right;\">\n",
       "      <th></th>\n",
       "      <th>カテゴリー</th>\n",
       "      <th>商品コード</th>\n",
       "      <th>商品名</th>\n",
       "      <th>売上日</th>\n",
       "      <th>単価</th>\n",
       "      <th>数量</th>\n",
       "      <th>原価</th>\n",
       "    </tr>\n",
       "  </thead>\n",
       "  <tbody>\n",
       "    <tr>\n",
       "      <th>0</th>\n",
       "      <td>食品</td>\n",
       "      <td>1001</td>\n",
       "      <td>りんご</td>\n",
       "      <td>2023-01-01</td>\n",
       "      <td>200</td>\n",
       "      <td>50</td>\n",
       "      <td>120</td>\n",
       "    </tr>\n",
       "    <tr>\n",
       "      <th>1</th>\n",
       "      <td>食品</td>\n",
       "      <td>1002</td>\n",
       "      <td>バナナ</td>\n",
       "      <td>2023-01-01</td>\n",
       "      <td>150</td>\n",
       "      <td>100</td>\n",
       "      <td>80</td>\n",
       "    </tr>\n",
       "    <tr>\n",
       "      <th>2</th>\n",
       "      <td>食品</td>\n",
       "      <td>1003</td>\n",
       "      <td>牛乳</td>\n",
       "      <td>2023-01-02</td>\n",
       "      <td>180</td>\n",
       "      <td>80</td>\n",
       "      <td>100</td>\n",
       "    </tr>\n",
       "    <tr>\n",
       "      <th>3</th>\n",
       "      <td>衣服</td>\n",
       "      <td>2001</td>\n",
       "      <td>Tシャツ</td>\n",
       "      <td>2023-01-02</td>\n",
       "      <td>1500</td>\n",
       "      <td>20</td>\n",
       "      <td>800</td>\n",
       "    </tr>\n",
       "    <tr>\n",
       "      <th>4</th>\n",
       "      <td>衣服</td>\n",
       "      <td>2002</td>\n",
       "      <td>ジーンズ</td>\n",
       "      <td>2023-01-03</td>\n",
       "      <td>5000</td>\n",
       "      <td>10</td>\n",
       "      <td>2500</td>\n",
       "    </tr>\n",
       "  </tbody>\n",
       "</table>\n",
       "</div>"
      ],
      "text/plain": [
       "  カテゴリー  商品コード   商品名        売上日    単価   数量    原価\n",
       "0    食品   1001   りんご 2023-01-01   200   50   120\n",
       "1    食品   1002   バナナ 2023-01-01   150  100    80\n",
       "2    食品   1003    牛乳 2023-01-02   180   80   100\n",
       "3    衣服   2001  Tシャツ 2023-01-02  1500   20   800\n",
       "4    衣服   2002  ジーンズ 2023-01-03  5000   10  2500"
      ]
     },
     "execution_count": 10,
     "metadata": {},
     "output_type": "execute_result"
    }
   ],
   "source": [
    "# 1. Excelファイルを読み込む\n",
    "df = pd.read_excel('サンプルデータ.xlsx', sheet_name='売上データ')\n",
    "# データフレームを表示して確認\n",
    "df.head()"
   ]
  },
  {
   "cell_type": "code",
   "execution_count": 11,
   "id": "b22e917d",
   "metadata": {},
   "outputs": [
    {
     "name": "stdout",
     "output_type": "stream",
     "text": [
      "売上データ:\n",
      "    カテゴリー 商品コード      商品名         売上日    単価   数量    原価\n",
      "0      食品  1001      りんご  2023-01-01   200   50   120\n",
      "1      食品  1002      バナナ  2023-01-01   150  100    80\n",
      "2      食品  1003       牛乳  2023-01-02   180   80   100\n",
      "3      衣服  2001     Tシャツ  2023-01-02  1500   20   800\n",
      "4      衣服  2002     ジーンズ  2023-01-03  5000   10  2500\n",
      "..    ...   ...      ...         ...   ...  ...   ...\n",
      "235    衣服  2077   レインパンツ  2023-04-28  2000   18  1000\n",
      "236    食品  1085      ザクロ  2023-04-29   600   40   300\n",
      "237   日用品  3077    バスブラシ  2023-04-29   400   60   200\n",
      "238    衣服  2078  レインシューズ  2023-04-30  2500   15  1250\n",
      "239    食品  1086    ココナッツ  2023-04-30   300   80   150\n",
      "\n",
      "[240 rows x 7 columns]\n",
      "この売上データの傾向を分析してください。\n"
     ]
    }
   ],
   "source": [
    "# 2. データをLLM用にテキスト形式に変換\n",
    "# データフレーム全体を文字列に変換\n",
    "sales_data_text = df.astype(str)\n",
    "prompt_text = f\"売上データ:\\n{sales_data_text}\\nこの売上データの傾向を分析してください。\"\n",
    "# 表示して確認\n",
    "print(prompt_text)"
   ]
  },
  {
   "cell_type": "code",
   "execution_count": 12,
   "id": "cef2f7b5",
   "metadata": {},
   "outputs": [
    {
     "name": "stdout",
     "output_type": "stream",
     "text": [
      "売上データの傾向を分析するために、以下のポイントを考慮してみましょう。\n",
      "\n",
      "### 1. 基本統計量\n",
      "- **売上総額**：各商品の売上は「単価 × 数量」で計算されます。これにより、全体の売上を把握できます。\n",
      "- **カテゴリー別売上**：食品、衣服、日用品などのカテゴリーごとに売上を集計し、どのカテゴリーが最も収益を上げているかを確認します。\n",
      "\n",
      "### 2. 時間的な傾向\n",
      "- **月別の売上**：売上日を基に月ごとの売上傾向を分析します。季節性が影響している場合、特定の月に売上が増加することが考えられます。\n",
      "- **週別の売上**：同様に、週ごとの売上を分析することで、特定の曜日に売上が集中する傾向を探ることができます。\n",
      "\n",
      "### 3. 商品別の売上\n",
      "- **人気商品**：販売数量の観点から、最も売れている商品を特定します。これにより、今後のプロモーションや在庫管理に役立てることができます。\n",
      "- **利益率分析**：各商品の利益（売上 - 原価）を計算し、利益率が高い商品を特定します。利益率の高い商品を重点的に販売促進することが可能です。\n",
      "\n",
      "### 4. カテゴリーのパフォーマンス\n",
      "- **カテゴリーごとの平均販売価格**：各カテゴリーごとに平均販売価格を算出し、価格戦略の見直しに役立てます。\n",
      "- **在庫回転率**：各カテゴリーの売上と在庫量を踏まえて、在庫回転率を評価します。在庫が長期間動いていない商品を洗い出し、在庫管理の効率化を図ります。\n",
      "\n",
      "### 5. その他のインサイト\n",
      "- **プロモーションや季節の影響**：特定のプロモーションや季節的な要因（例えば、夏服の需要など）による売上の変動が見られるかどうかを分析します。\n",
      "\n",
      "### 結論\n",
      "分析を通じて、上記の傾向やインサイトを元に意思決定を行うことで、マーケティング戦略やプロモーション活動の最適化、在庫管理の改善、広告予算の配分などを行うことができます。\n",
      "\n",
      "これらの観点を元にデータを深く掘り下げ、具体的な数字やトレンドを詳しく分析することで、企業の成長に寄与する洞察を生み出していきましょう。\n"
     ]
    }
   ],
   "source": [
    "# 3. OpenAI APIの呼び出し\n",
    "\n",
    "# 役割を設定\n",
    "role = \"あなたはマーケティング分野に精通したデータサイエンティストです。企業の成長をサポートするために、効果的なインサイトを提供します。\"\n",
    "\n",
    "# APIへリクエスト\n",
    "response = client.chat.completions.create(\n",
    "    model=MODEL_NAME,\n",
    "    messages=[\n",
    "        {\"role\": \"system\", \"content\": role},\n",
    "        {\"role\": \"user\", \"content\": prompt_text},\n",
    "    ],\n",
    ")\n",
    "\n",
    "# LLMからの回答を表示\n",
    "print(response.choices[0].message.content.strip())"
   ]
  },
  {
   "cell_type": "code",
   "execution_count": 5,
   "id": "e9757891",
   "metadata": {},
   "outputs": [
    {
     "name": "stdout",
     "output_type": "stream",
     "text": [
      "                                                   結果\n",
      "0                 この売上データに基づいて、以下のような傾向やインサイトを分析できます。\n",
      "1                                                    \n",
      "2                                    ### 1. カテゴリー別の売上\n",
      "3   - **食品、衣服、日用品**の3つの主要カテゴリーがあります。それぞれのカテゴリーがどれだ...\n",
      "4                                                    \n",
      "5                                   ### 2. 商品のパフォーマンス\n",
      "6   - 商品コードや商品名ごとに売上と数量を集計し、最も売れている商品や利益が高い商品を特定しま...\n",
      "7                                                    \n",
      "8                                     ### 3. 価格と原価の分析\n",
      "9   - 各商品の単価と原価を比較し、利益率を計算できます。利益率が高い商品に焦点を当てることで、...\n",
      "10                                                   \n",
      "11                                       ### 4. 時系列分析\n",
      "12  - 売上日をもとに、月ごとの売上のトレンドを分析します。例えば、特定の月や季節に売上が増加す...\n",
      "13                                                   \n",
      "14                                        ### 5. 需要予測\n",
      "15  - 過去のデータに基づいて、将来の需要を予測するためのモデルを構築することができます。これに...\n",
      "16                                                   \n",
      "17                                 ### 6. 顧客セグメンテーション\n",
      "18  - 購買データを利用して、異なる顧客グループがどのカテゴリの商品を好んでいるかを分析します。...\n",
      "19                                                   \n",
      "20                                         ### 可視化の提案\n",
      "21  - 上記の分析結果を視覚化することで、売上の傾向やパフォーマンス指標を一目で理解しやすくなり...\n",
      "22                                                   \n",
      "23                                             ### 結論\n",
      "24  この売上データを詳細に分析することで、ビジネスの成長をサポートするための具体的な戦略を策定す...\n"
     ]
    }
   ],
   "source": [
    "# 4. 分析結果をデータフレームに変換\n",
    "result_list = response.choices[0].message.content.strip().split(\"\\n\")\n",
    "df_out = pd.DataFrame(result_list, columns=['結果'])\n",
    "print(df_out)"
   ]
  },
  {
   "cell_type": "code",
   "execution_count": 7,
   "id": "db037397",
   "metadata": {},
   "outputs": [],
   "source": [
    "# 5. 結果をExcelファイルに保存\n",
    "df_out.to_excel(\"売上データ分析結果.xlsx\", index=False)"
   ]
  },
  {
   "cell_type": "code",
   "execution_count": 13,
   "id": "63545c5a",
   "metadata": {},
   "outputs": [
    {
     "name": "stdout",
     "output_type": "stream",
     "text": [
      "処理を開始します。\n",
      "Excelファイルに分析結果を保存しました。\n"
     ]
    }
   ],
   "source": [
    "# ワークフロー化\n",
    "print(\"処理を開始します。\")\n",
    "\n",
    "# 1. Excelファイルを読み込む\n",
    "df = pd.read_excel('サンプルデータ.xlsx', sheet_name='売上データ')\n",
    "\n",
    "# 2. データをLLM用にテキスト形式に変換\n",
    "sales_data_text = df.astype(str)\n",
    "prompt_text = f\"売上データ:\\n{sales_data_text}\\nこの売上データの傾向を分析してください。\"\n",
    "\n",
    "# 3. OpenAI APIの呼び出し\n",
    "# 役割を設定\n",
    "role = \"あなたはマーケティング分野に精通したデータサイエンティストです。企業の成長をサポートするために、効果的なインサイトを提供します。\"\n",
    "# APIへリクエスト\n",
    "response = client.chat.completions.create(\n",
    "    model=MODEL_NAME,\n",
    "    messages=[\n",
    "        {\"role\": \"system\", \"content\": role},\n",
    "        {\"role\": \"user\", \"content\": prompt_text},\n",
    "    ],\n",
    ")\n",
    "\n",
    "# 4. 分析結果をデータフレームに変換\n",
    "result_list = response.choices[0].message.content.strip().split(\"\\n\")\n",
    "df_out = pd.DataFrame(result_list, columns=['結果'])\n",
    "\n",
    "# 5. 結果をExcelファイルに保存\n",
    "df_out.to_excel(\"売上データ分析結果.xlsx\", index=False)\n",
    "\n",
    "print(\"Excelファイルに分析結果を保存しました。\")"
   ]
  },
  {
   "cell_type": "code",
   "execution_count": null,
   "id": "efa1e4ee",
   "metadata": {},
   "outputs": [],
   "source": []
  }
 ],
 "metadata": {
  "kernelspec": {
   "display_name": ".venv",
   "language": "python",
   "name": "python3"
  },
  "language_info": {
   "codemirror_mode": {
    "name": "ipython",
    "version": 3
   },
   "file_extension": ".py",
   "mimetype": "text/x-python",
   "name": "python",
   "nbconvert_exporter": "python",
   "pygments_lexer": "ipython3",
   "version": "3.13.5"
  }
 },
 "nbformat": 4,
 "nbformat_minor": 5
}
