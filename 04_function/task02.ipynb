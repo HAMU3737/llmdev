{
 "cells": [
  {
   "cell_type": "code",
   "execution_count": 2,
   "id": "dceee02c",
   "metadata": {},
   "outputs": [
    {
     "name": "stdout",
     "output_type": "stream",
     "text": [
      "Content saved in: 20250810_012501.txt\n"
     ]
    }
   ],
   "source": [
    "import urllib.request\n",
    "import datetime as dt\n",
    "\n",
    "def save_url_content(url: str) -> str:\n",
    "    # URLからデータを取得してデコード\n",
    "    response = urllib.request.urlopen(url)\n",
    "    html = response.read().decode(\"utf-8\")\n",
    "    \n",
    "    # 先頭500文字を抽出\n",
    "    content = html[:500]\n",
    "    \n",
    "    # 現在日時でファイル名作成（例: 20241030_155221.txt）\n",
    "    now = dt.datetime.now()\n",
    "    file_name = now.strftime(\"%Y%m%d_%H%M%S\") + \".txt\"\n",
    "    \n",
    "    # ファイルに保存\n",
    "    with open(file_name, \"w\", encoding=\"utf-8\") as f:\n",
    "        f.write(content)\n",
    "    \n",
    "    # ファイル名を返す\n",
    "    return file_name\n",
    "\n",
    "# 呼び出し側のコード\n",
    "if __name__ == \"__main__\":\n",
    "    url = input(\"URLを入力してください: \")\n",
    "    file_name = save_url_content(url)\n",
    "    print(f\"Content saved in: {file_name}\")"
   ]
  },
  {
   "cell_type": "code",
   "execution_count": null,
   "id": "bdf03090",
   "metadata": {},
   "outputs": [],
   "source": []
  }
 ],
 "metadata": {
  "kernelspec": {
   "display_name": ".venv",
   "language": "python",
   "name": "python3"
  },
  "language_info": {
   "codemirror_mode": {
    "name": "ipython",
    "version": 3
   },
   "file_extension": ".py",
   "mimetype": "text/x-python",
   "name": "python",
   "nbconvert_exporter": "python",
   "pygments_lexer": "ipython3",
   "version": "3.13.5"
  }
 },
 "nbformat": 4,
 "nbformat_minor": 5
}
