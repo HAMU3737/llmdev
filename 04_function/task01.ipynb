{
 "cells": [
  {
   "cell_type": "code",
   "execution_count": 15,
   "id": "de831359",
   "metadata": {},
   "outputs": [
    {
     "name": "stdout",
     "output_type": "stream",
     "text": [
      "エラー: ユーザー名に空白を含めることはできません\n",
      "不正なユーザー名です。\n"
     ]
    }
   ],
   "source": [
    "def validate_username(username: str) -> bool:\n",
    "    # 文字数チェック\n",
    "    if len(username) < 5 or len(username) > 15:\n",
    "        print(\"エラー: ユーザー名は5文字以上15文字以内で入力してください\")\n",
    "        return False\n",
    "    # 空白チェック\n",
    "    if \" \" in username:\n",
    "        print(\"エラー: ユーザー名に空白を含めることはできません\")\n",
    "        return False\n",
    "    # 英数字のみチェック\n",
    "    if not username.isalnum():\n",
    "        print(\"エラー: ユーザー名は英数字のみ使用できます\")\n",
    "        return False\n",
    "    # すべての条件を満たした場合\n",
    "    print(\"ユーザー名は有効です。\")\n",
    "    return True\n",
    "\n",
    "# 呼び出し側\n",
    "user_input = input(\"ユーザー名を入力してください。: \")\n",
    "if validate_username(user_input):\n",
    "    # Trueの場合は有効と表示済みなので何もしない\n",
    "    pass\n",
    "else:\n",
    "    print(\"不正なユーザー名です。\")"
   ]
  },
  {
   "cell_type": "code",
   "execution_count": null,
   "id": "e2d3edad",
   "metadata": {},
   "outputs": [],
   "source": []
  }
 ],
 "metadata": {
  "kernelspec": {
   "display_name": ".venv",
   "language": "python",
   "name": "python3"
  },
  "language_info": {
   "codemirror_mode": {
    "name": "ipython",
    "version": 3
   },
   "file_extension": ".py",
   "mimetype": "text/x-python",
   "name": "python",
   "nbconvert_exporter": "python",
   "pygments_lexer": "ipython3",
   "version": "3.13.5"
  }
 },
 "nbformat": 4,
 "nbformat_minor": 5
}
